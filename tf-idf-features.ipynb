{
  "cells": [
    {
      "cell_type": "markdown",
      "metadata": {
        "id": "l-1cyVGbHkTq"
      },
      "source": [
        "### **Load library**"
      ]
    },
    {
      "cell_type": "code",
      "execution_count": 1,
      "metadata": {
        "id": "_ahn55vOEvNj"
      },
      "outputs": [],
      "source": [
        "import numpy as np\n",
        "import pandas as pd\n",
        "from bs4 import BeautifulSoup\n",
        "import re\n",
        "\n",
        "import nltk\n",
        "from nltk.corpus import stopwords\n",
        "nltk.download('stopwords')\n",
        "nltk.download('punkt')\n",
        "nltk.download('maxent_ne_chunker')\n",
        "nltk.download('words')\n",
        "nltk.download('vader_lexicon')\n",
        "nltk.download('averaged_perceptron_tagger')\n",
        "nltk.download('wordnet')\n",
        "STOPWORDS =(stopwords.words('english'))\n",
        "\n",
        "import en_core_web_sm\n",
        "nlp = en_core_web_sm.load()\n",
        "\n",
        "import warnings\n",
        "warnings.filterwarnings(\"ignore\")\n",
        "warnings.filterwarnings(\"ignore\",category=DeprecationWarning)\n",
        "\n",
        "from sklearn.model_selection import train_test_split\n",
        "from sklearn.feature_extraction.text import TfidfVectorizer\n",
        "from sklearn.metrics import accuracy_score, confusion_matrix,classification_report, precision_score, f1_score, recall_score\n",
        "from sklearn.ensemble import RandomForestClassifier\n",
        "from sklearn.linear_model import PassiveAggressiveClassifier\n",
        "from sklearn.svm import SVC\n"
      ]
    },
    {
      "cell_type": "markdown",
      "metadata": {
        "id": "Iw-j4Lt5H2sM"
      },
      "source": [
        "### **Read the data**"
      ]
    },
    {
      "cell_type": "code",
      "execution_count": 5,
      "metadata": {
        "colab": {
          "base_uri": "https://localhost:8080/"
        },
        "id": "VGeY0YRlExZZ",
        "outputId": "44c4ccc6-f314-4095-81f2-d78ee27d4240"
      },
      "outputs": [
        {
          "data": {
            "text/plain": [
              "Index(['Id', 'newsText', 'Label'], dtype='object')"
            ]
          },
          "execution_count": 5,
          "metadata": {},
          "output_type": "execute_result"
        }
      ],
      "source": [
        "#Read the data\n",
        "df = pd.read_csv('data/Gossipcop.csv',encoding='utf-16')\n",
        "df.columns"
      ]
    },
    {
      "cell_type": "code",
      "execution_count": 6,
      "metadata": {
        "colab": {
          "base_uri": "https://localhost:8080/"
        },
        "id": "HLxEKE2Ny57z",
        "outputId": "c8dd0f0e-d627-4653-932a-6e5d99efe5e3"
      },
      "outputs": [
        {
          "name": "stdout",
          "output_type": "stream",
          "text": [
            "(19279, 3)\n"
          ]
        }
      ],
      "source": [
        "txt = df['newsText']\n",
        "for i in range(len(txt)):\n",
        "    if(txt[i] is np.nan):\n",
        "      df.drop(index=i, axis=0, inplace=True)\n",
        "\n",
        "print(df.shape)"
      ]
    },
    {
      "cell_type": "code",
      "execution_count": 7,
      "metadata": {
        "colab": {
          "base_uri": "https://localhost:8080/",
          "height": 178
        },
        "id": "bosITa-EAGr2",
        "outputId": "b43ea3b9-9623-4ff0-c191-c37bf04facd8"
      },
      "outputs": [
        {
          "data": {
            "text/html": [
              "<div>\n",
              "<style scoped>\n",
              "    .dataframe tbody tr th:only-of-type {\n",
              "        vertical-align: middle;\n",
              "    }\n",
              "\n",
              "    .dataframe tbody tr th {\n",
              "        vertical-align: top;\n",
              "    }\n",
              "\n",
              "    .dataframe thead th {\n",
              "        text-align: right;\n",
              "    }\n",
              "</style>\n",
              "<table border=\"1\" class=\"dataframe\">\n",
              "  <thead>\n",
              "    <tr style=\"text-align: right;\">\n",
              "      <th></th>\n",
              "      <th>count</th>\n",
              "    </tr>\n",
              "    <tr>\n",
              "      <th>Label</th>\n",
              "      <th></th>\n",
              "    </tr>\n",
              "  </thead>\n",
              "  <tbody>\n",
              "    <tr>\n",
              "      <th>1.0</th>\n",
              "      <td>15089</td>\n",
              "    </tr>\n",
              "    <tr>\n",
              "      <th>0.0</th>\n",
              "      <td>4190</td>\n",
              "    </tr>\n",
              "  </tbody>\n",
              "</table>\n",
              "</div><br><label><b>dtype:</b> int64</label>"
            ],
            "text/plain": [
              "Label\n",
              "1.0    15089\n",
              "0.0     4190\n",
              "Name: count, dtype: int64"
            ]
          },
          "execution_count": 7,
          "metadata": {},
          "output_type": "execute_result"
        }
      ],
      "source": [
        "#DataFlair - Get the labels\n",
        "labels = df.Label\n",
        "labels.value_counts()"
      ]
    },
    {
      "cell_type": "markdown",
      "metadata": {
        "id": "ViX7rYDqvghP"
      },
      "source": [
        "### **Pre-process**"
      ]
    },
    {
      "cell_type": "code",
      "execution_count": 14,
      "metadata": {
        "id": "PpyjxX2SxzmI"
      },
      "outputs": [],
      "source": [
        "# to remove HTML tag\n",
        "def html_remover(data):\n",
        "  beauti = BeautifulSoup(data,'html.parser')\n",
        "  return beauti.get_text()\n",
        "\n",
        "def remove_stopwords(text):\n",
        "    return \" \".join([word for word in str(text).split() if word not in STOPWORDS])\n",
        "\n",
        "def lemmatizer(text):\n",
        "    doc = nlp(text)\n",
        "    lemmatized_sentence = \" \".join([token.lemma_.lower() if token.lemma_ != '-PRON-' else token.lower_ for token in doc])\n",
        "    return(lemmatized_sentence)\n",
        "\n",
        "\n",
        "new_txt = []\n",
        "\n",
        "new_txt = txt.apply(lambda x: html_remover(x))\n",
        "new_txt = new_txt.apply(lambda x: re.sub(r'https\\S*',' ',x))\n",
        "new_txt = new_txt.apply(lambda x: re.sub(r'http\\S*',' ',x))\n",
        "new_txt = new_txt.apply(lambda x: re.sub(r'www.\\S*com\\S*',' ',x))\n",
        "new_txt = new_txt.apply(lambda x: re.sub(r'\\S*.com\\S*',' ',x))\n",
        "new_txt = new_txt.apply(lambda x: re.sub(r'\\S*@\\S*',' ',x))\n",
        "\n",
        "#remove white space\n",
        "for text in new_txt:\n",
        "  text = text.rstrip()\n",
        "\n",
        "#remove digits\n",
        "new_txt = new_txt.apply(lambda x: re.sub(r'\\d+',' ',x))\n",
        "\n",
        "#lowercase\n",
        "new_txt = new_txt.str.lower()\n",
        "\n",
        "new_txt = new_txt.apply(lambda x:lemmatizer(x))\n",
        "new_txt = new_txt.apply(lambda x: remove_stopwords(x))\n",
        "new_txt = new_txt.apply(lambda x: re.sub(\"[^a-z A-Z]\",' ',x))\n",
        "new_txt = new_txt.apply(lambda x: re.sub(r'\\W*\\b\\w{1,2}\\b',' ',x))\n",
        "new_txt = new_txt.replace(r'\\s+', ' ', regex=True)"
      ]
    },
    {
      "cell_type": "markdown",
      "metadata": {
        "id": "R3xqefU5OiFH"
      },
      "source": [
        "### **Split the dataset and TF-IDF**"
      ]
    },
    {
      "cell_type": "code",
      "execution_count": 19,
      "metadata": {
        "id": "T55vMZ-Zx6Xu"
      },
      "outputs": [],
      "source": [
        "#DataFlair - Split the dataset\n",
        "x_train,x_test,y_train,y_test=train_test_split(new_txt ,labels,\n",
        "                                               test_size=0.3 , random_state=0)\n",
        "\n",
        "\n",
        "#DataFlair - Initialize a TfidfVectorizer\n",
        "tfidf_vectorizer=TfidfVectorizer(stop_words='english', max_df=0.7)\n",
        "\n",
        "#DataFlair - Fit and transform train set, transform test set\n",
        "tfidf_train=tfidf_vectorizer.fit_transform(x_train)\n",
        "\n",
        "tfidf_test=tfidf_vectorizer.transform(x_test)"
      ]
    },
    {
      "cell_type": "code",
      "execution_count": 20,
      "metadata": {
        "colab": {
          "base_uri": "https://localhost:8080/"
        },
        "id": "xWciUSCVPZ7O",
        "outputId": "4e88a27e-23aa-4a7e-f176-822c40744e35"
      },
      "outputs": [
        {
          "data": {
            "text/plain": [
              "((13495,),\n",
              " (5784,),\n",
              " Label\n",
              " 1.0    4526\n",
              " 0.0    1258\n",
              " Name: count, dtype: int64)"
            ]
          },
          "execution_count": 20,
          "metadata": {},
          "output_type": "execute_result"
        }
      ],
      "source": [
        "x_train.shape, x_test.shape, y_test.value_counts()"
      ]
    },
    {
      "cell_type": "markdown",
      "metadata": {
        "id": "YTPMdOs8IAtS"
      },
      "source": [
        "### **Learn classifiers**"
      ]
    },
    {
      "cell_type": "code",
      "execution_count": 21,
      "metadata": {
        "id": "3QvhNzy6S8pz"
      },
      "outputs": [],
      "source": [
        "#1-------------------------------------------------------------\n",
        "def RandomForest(tfidf_train,y_train,tfidf_test,y_test):\n",
        "  print(\"RandomForestClassifier\")\n",
        "  classifier3 = RandomForestClassifier(n_estimators = 10, criterion = 'entropy', random_state = 0)\n",
        "  classifier3.fit(tfidf_train, y_train)\n",
        "  y_predR = classifier3.predict(tfidf_test)\n",
        "  evaluate(y_test, y_predR)\n",
        "\n",
        "#2-------------------------------------------------------------\n",
        "def PassiveAggressive(tfidf_train,y_train,tfidf_test,y_test):\n",
        "  print(\"Passive Aggressive Classifier\")\n",
        "  pac=PassiveAggressiveClassifier(max_iter=50)\n",
        "  pac.fit(tfidf_train,y_train)\n",
        "  y_pred=pac.predict(tfidf_test)\n",
        "  evaluate(y_test,y_pred)\n",
        "\n",
        "#3-------------------------------------------------------------\n",
        "def SVMclassifier(tfidf_train,y_train,tfidf_test,y_test):\n",
        "  print(\"svm Classifier\")\n",
        "  SVM = SVC(C=1.9, kernel='linear')\n",
        "  SVM.fit(tfidf_train, y_train)\n",
        "  svm_predictions = SVM.predict(tfidf_test)\n",
        "  evaluate(y_test, svm_predictions)"
      ]
    },
    {
      "cell_type": "code",
      "execution_count": 22,
      "metadata": {
        "id": "NzkONuioXnbb"
      },
      "outputs": [],
      "source": [
        "def evaluate(y_test, y_pred):\n",
        "\n",
        "  score = accuracy_score(y_test, y_pred)\n",
        "  precision = precision_score(y_test, y_pred, average='binary')\n",
        "  recall = recall_score(y_test, y_pred, average= 'binary')\n",
        "  score_f1 = f1_score(y_test, y_pred, average='binary')\n",
        "\n",
        "  print(f'Accuracy: {round(score*100,2)}%')\n",
        "  print('precision: %.3f' % precision)\n",
        "  print('Recall: %.3f' % recall)\n",
        "  print('F-Measure: %.3f' % score_f1)\n",
        "\n",
        "  cm = confusion_matrix(y_test, y_pred)\n",
        "  report = classification_report(y_test, y_pred)\n",
        "  print('confusion_matrix:','\\n',cm,'\\n')\n",
        "  print('classification_report:','\\n',report,'\\n')"
      ]
    },
    {
      "cell_type": "code",
      "execution_count": 23,
      "metadata": {
        "colab": {
          "base_uri": "https://localhost:8080/"
        },
        "id": "5PYyWVpuDCw3",
        "outputId": "7718a5ce-f135-4708-dcf3-90272c36128d"
      },
      "outputs": [
        {
          "name": "stdout",
          "output_type": "stream",
          "text": [
            "1.RandomForest\n",
            "RandomForestClassifier\n",
            "Accuracy: 82.56%\n",
            "precision: 0.841\n",
            "Recall: 0.958\n",
            "F-Measure: 0.896\n",
            "confusion_matrix: \n",
            " [[ 441  817]\n",
            " [ 192 4334]] \n",
            "\n",
            "classification_report: \n",
            "               precision    recall  f1-score   support\n",
            "\n",
            "         0.0       0.70      0.35      0.47      1258\n",
            "         1.0       0.84      0.96      0.90      4526\n",
            "\n",
            "    accuracy                           0.83      5784\n",
            "   macro avg       0.77      0.65      0.68      5784\n",
            "weighted avg       0.81      0.83      0.80      5784\n",
            " \n",
            "\n",
            "2.PassiveAggressive\n",
            "Passive Aggressive Classifier\n",
            "Accuracy: 81.45%\n",
            "precision: 0.887\n",
            "Recall: 0.874\n",
            "F-Measure: 0.881\n",
            "confusion_matrix: \n",
            " [[ 756  502]\n",
            " [ 571 3955]] \n",
            "\n",
            "classification_report: \n",
            "               precision    recall  f1-score   support\n",
            "\n",
            "         0.0       0.57      0.60      0.58      1258\n",
            "         1.0       0.89      0.87      0.88      4526\n",
            "\n",
            "    accuracy                           0.81      5784\n",
            "   macro avg       0.73      0.74      0.73      5784\n",
            "weighted avg       0.82      0.81      0.82      5784\n",
            " \n",
            "\n",
            "3.SVM\n",
            "svm Classifier\n",
            "Accuracy: 85.68%\n",
            "precision: 0.884\n",
            "Recall: 0.941\n",
            "F-Measure: 0.911\n",
            "confusion_matrix: \n",
            " [[ 697  561]\n",
            " [ 267 4259]] \n",
            "\n",
            "classification_report: \n",
            "               precision    recall  f1-score   support\n",
            "\n",
            "         0.0       0.72      0.55      0.63      1258\n",
            "         1.0       0.88      0.94      0.91      4526\n",
            "\n",
            "    accuracy                           0.86      5784\n",
            "   macro avg       0.80      0.75      0.77      5784\n",
            "weighted avg       0.85      0.86      0.85      5784\n",
            " \n",
            "\n"
          ]
        }
      ],
      "source": [
        "print('1.RandomForest')\n",
        "RandomForest(tfidf_train,y_train,tfidf_test,y_test)\n",
        "print('2.PassiveAggressive')\n",
        "PassiveAggressive(tfidf_train,y_train,tfidf_test,y_test)\n",
        "print('3.SVM')\n",
        "SVMclassifier(tfidf_train,y_train,tfidf_test,y_test)"
      ]
    }
  ],
  "metadata": {
    "colab": {
      "collapsed_sections": [
        "l-1cyVGbHkTq",
        "YTPMdOs8IAtS"
      ],
      "provenance": []
    },
    "kernelspec": {
      "display_name": "Python 3",
      "name": "python3"
    },
    "language_info": {
      "name": "python"
    }
  },
  "nbformat": 4,
  "nbformat_minor": 0
}
